{
 "cells": [
  {
   "cell_type": "code",
   "execution_count": 114,
   "id": "c9e5d722",
   "metadata": {},
   "outputs": [],
   "source": [
    "import numpy as np\n",
    "from sklearn import datasets\n",
    "from sklearn.model_selection import train_test_split\n",
    "from sklearn.metrics import accuracy_score\n"
   ]
  },
  {
   "cell_type": "code",
   "execution_count": 115,
   "id": "a389c354",
   "metadata": {},
   "outputs": [],
   "source": [
    "class MultiClassLogisticRegression:\n",
    "    def __init__(self, learning_rate=0.05, num_iters=1000):\n",
    "        self.learning_rate = learning_rate\n",
    "        self.num_iters = num_iters\n",
    "        \n",
    "    def softmax(self,x):\n",
    "        exp_x = np.exp(x) # should subtract max(X) to avoid exponential overshoot with large values\n",
    "        return exp_x / np.sum(exp_x, axis=1, keepdims=True)\n",
    "\n",
    "    def one_hot_encode(self,y, num_classes):\n",
    "        num_samples = len(y)\n",
    "        encoded = np.zeros((num_samples, num_classes))\n",
    "        encoded[np.arange(num_samples), y] = 1\n",
    "        return encoded\n",
    "\n",
    "    def cross_entropy_loss(self,y_true, y_pred):\n",
    "        epsilon = 1e-15 # to avoid numerical instability if probs are too close to zero or 1\n",
    "        y_pred = np.clip(y_pred, epsilon, 1 - epsilon)\n",
    "        return -np.sum(y_true * np.log(y_pred)) / len(y_true)\n",
    "\n",
    "    def fit(self, X, y):\n",
    "        num_samples, num_features = X.shape\n",
    "        num_classes = len(np.unique(y))\n",
    "\n",
    "        self.weights = np.random.randn(num_features, num_classes)*0.01\n",
    "        self.bias = np.zeros(num_classes)\n",
    "\n",
    "        y_one_hot = self.one_hot_encode(y, num_classes)\n",
    "\n",
    "        for iter in range(self.num_iters):\n",
    "            scores = np.dot(X, self.weights) + self.bias\n",
    "            probabilities = self.softmax(scores)\n",
    "            loss = self.cross_entropy_loss(y_one_hot, probabilities)\n",
    "\n",
    "            # Print loss during training (optional)\n",
    "            if iter % 100 == 0:\n",
    "                print(f\"iter {iter}, Loss: {loss}\")\n",
    "\n",
    "            error = y_one_hot - probabilities\n",
    "\n",
    "            gradient_weights = -np.dot(X.T, error) / num_samples\n",
    "            gradient_bias = -np.sum(error, axis=0) / num_samples\n",
    "\n",
    "            self.weights -= self.learning_rate * gradient_weights\n",
    "            self.bias -= self.learning_rate * gradient_bias\n",
    "\n",
    "    def predict(self, X):\n",
    "        scores = np.dot(X, self.weights) + self.bias\n",
    "        probabilities = self.softmax(scores)\n",
    "        return np.argmax(probabilities, axis=1)"
   ]
  },
  {
   "cell_type": "code",
   "execution_count": 116,
   "id": "2521ff18",
   "metadata": {},
   "outputs": [
    {
     "name": "stdout",
     "output_type": "stream",
     "text": [
      "iter 0, Loss: 1.119974584484307\n",
      "iter 100, Loss: 0.7340251048238636\n",
      "iter 200, Loss: 0.608053540965716\n",
      "Accuracy: 0.8666666666666667\n"
     ]
    }
   ],
   "source": [
    "# Example usage with Iris dataset\n",
    "iris = datasets.load_iris()\n",
    "X = iris.data\n",
    "y = iris.target\n",
    "\n",
    "X_train, X_test, y_train, y_test = train_test_split(X, y, test_size=0.3, random_state=42)\n",
    "\n",
    "model = MultiClassLogisticRegression(learning_rate=0.01, num_iters=300)\n",
    "model.fit(X_train, y_train)\n",
    "\n",
    "predictions = model.predict(X_test)\n",
    "accuracy = accuracy_score(y_test, predictions)\n",
    "print(f\"Accuracy: {accuracy}\")\n"
   ]
  },
  {
   "cell_type": "code",
   "execution_count": 117,
   "id": "c21686ad",
   "metadata": {},
   "outputs": [],
   "source": [
    "from sklearn.metrics import confusion_matrix, roc_curve, auc, classification_report\n",
    "import matplotlib.pyplot as plt\n"
   ]
  },
  {
   "cell_type": "code",
   "execution_count": 118,
   "id": "0cb66344",
   "metadata": {},
   "outputs": [
    {
     "name": "stdout",
     "output_type": "stream",
     "text": [
      "Confusion Matrix:\n",
      "[[19  0  0]\n",
      " [ 0  7  6]\n",
      " [ 0  0 13]]\n"
     ]
    }
   ],
   "source": [
    "# Confusion Matrix\n",
    "cm = confusion_matrix(y_test,predictions)\n",
    "print(\"Confusion Matrix:\")\n",
    "print(cm)\n",
    "\n",
    "\n"
   ]
  },
  {
   "cell_type": "code",
   "execution_count": 119,
   "id": "1ea55b1c",
   "metadata": {},
   "outputs": [
    {
     "name": "stdout",
     "output_type": "stream",
     "text": [
      "Classification Report:\n",
      "              precision    recall  f1-score   support\n",
      "\n",
      "           0       1.00      1.00      1.00        19\n",
      "           1       1.00      0.54      0.70        13\n",
      "           2       0.68      1.00      0.81        13\n",
      "\n",
      "    accuracy                           0.87        45\n",
      "   macro avg       0.89      0.85      0.84        45\n",
      "weighted avg       0.91      0.87      0.86        45\n",
      "\n"
     ]
    }
   ],
   "source": [
    "# Classification Report\n",
    "print(\"Classification Report:\")\n",
    "print(classification_report(y_test, predictions))\n"
   ]
  },
  {
   "cell_type": "code",
   "execution_count": null,
   "id": "4c156a8c",
   "metadata": {},
   "outputs": [],
   "source": []
  },
  {
   "cell_type": "code",
   "execution_count": null,
   "id": "421db00b",
   "metadata": {},
   "outputs": [],
   "source": []
  },
  {
   "cell_type": "code",
   "execution_count": null,
   "id": "11dad864",
   "metadata": {},
   "outputs": [],
   "source": []
  }
 ],
 "metadata": {
  "kernelspec": {
   "display_name": "Python 3 (ipykernel)",
   "language": "python",
   "name": "python3"
  },
  "language_info": {
   "codemirror_mode": {
    "name": "ipython",
    "version": 3
   },
   "file_extension": ".py",
   "mimetype": "text/x-python",
   "name": "python",
   "nbconvert_exporter": "python",
   "pygments_lexer": "ipython3",
   "version": "3.8.8"
  }
 },
 "nbformat": 4,
 "nbformat_minor": 5
}
